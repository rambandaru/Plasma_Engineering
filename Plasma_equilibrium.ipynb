{
 "cells": [
  {
   "cell_type": "code",
   "execution_count": 1,
   "metadata": {
    "collapsed": true
   },
   "outputs": [],
   "source": [
    "import numpy\n",
    "import math \n",
    "from matplotlib import pyplot as plt\n",
    "%matplotlib inline"
   ]
  },
  {
   "cell_type": "markdown",
   "metadata": {},
   "source": [
    "# Plasma Equilibrium"
   ]
  },
  {
   "cell_type": "markdown",
   "metadata": {},
   "source": [
    "The plasma Equiilibrium constant can be defined as follows:\n",
    "\n",
    "$K(T)$ = $\\frac{n_i*n_e}{n_a}$\n",
    "\n",
    "but in a plasma $n_i$ = $n_e$\n",
    "\n",
    "therefore, \n",
    "\n",
    "$K(T)$ = $\\frac{(n_e)^2}{n_a}$"
   ]
  },
  {
   "cell_type": "markdown",
   "metadata": {},
   "source": [
    "### Using Saha equaiton;"
   ]
  },
  {
   "cell_type": "markdown",
   "metadata": {},
   "source": [
    "we find the relation between the electron density and temperature,\n",
    "\n",
    "Therefore the $SAHA$ equation is;\n",
    "\n",
    "$\\frac{N_eN_i}{N_a}$ = $\\frac{g_eg_i}{g_a}\\frac{(2\\pi m T)^\\frac{3}{2}}{h^3}e^-(\\frac{E_i}{T})$\n",
    "\n",
    "but in a plasma $N_i$ = $N_e$ \n",
    "\n",
    "$\\frac{N_e^2}{N_a}$ = $\\frac{g_eg_i}{g_a}\\frac{(2\\pi m T)^\\frac{3}{2}}{h^3}e^-(\\frac{E_i}{T})$\n",
    "\n",
    "$N_e^2$ = $N_a\\frac{g_eg_i}{g_a}\\frac{(2\\pi m T)^\\frac{3}{2}}{h^3}e^-(\\frac{E_i}{T})$\n",
    "\n",
    "$N_e$ = $\\sqrt{N_a\\frac{g_eg_i}{g_a}\\frac{(2\\pi m T)^\\frac{3}{2}}{h^3}e^-(\\frac{E_i}{T})}$"
   ]
  },
  {
   "cell_type": "markdown",
   "metadata": {},
   "source": [
    "$Given:$\n",
    "\n",
    "$\\frac{g_eg_i}{g_a}$ = $2$\n",
    "\n",
    "$T$ = $1-5eV$\n",
    "\n",
    "$P$ = $0.1 atm$\n",
    "\n",
    "$m$ = $4 gm$\n",
    "\n",
    "$e$ = $1.602*10^-19$\n",
    "\n",
    "$E_i$ = $24.5 eV$\n",
    "\n",
    "$h$ = $6.62607004 × 10^-34 m^2 kg / s$"
   ]
  },
  {
   "cell_type": "markdown",
   "metadata": {},
   "source": [
    "### calculation for Na\n",
    "\n",
    "using Ideal gas equation for in plasma;\n",
    "\n",
    "$P$ = $K_b N_a T$\n",
    "\n",
    "$N_a$ = $\\frac{P}{T K_b}$\n",
    "\n",
    "$Therefore:$\n",
    "\n",
    "$N_e$ = $\\sqrt{\\frac{P}{T K_b}\\frac{g_eg_i}{g_a}\\frac{(2\\pi m T)^\\frac{3}{2}}{h^3}e^-(\\frac{E_i}{T})}$\n",
    "\n",
    "let $\\frac{g_eg_i}{g_a}$ = $r$"
   ]
  },
  {
   "cell_type": "code",
   "execution_count": 9,
   "metadata": {
    "collapsed": false
   },
   "outputs": [
    {
     "name": "stdout",
     "output_type": "stream",
     "text": [
      "Electron Density: [  7.49930973e+62   9.34457546e+62   1.05037083e+63   1.13751588e+63\n",
      "   1.20840649e+63]\n",
      "[ 11600.  23200.  34800.  46400.  58000.]\n"
     ]
    }
   ],
   "source": [
    "T = 5.\n",
    "N = 5\n",
    "t = numpy.linspace(1.0, T, N)\n",
    "tc = t*11600.\n",
    "K_b = 1.38*10**-23\n",
    "p = 0.1\n",
    "m = 4.\n",
    "e = 1.602*10**19\n",
    "E_i = 24.5\n",
    "h = 6.62*10**-34\n",
    "r = 2.\n",
    "\n",
    "N_e = numpy.sqrt((p/(K_b*tc))*r*((2*numpy.pi*m*tc)**(3/2)/(h**3)))*(e**-(E_i/tc))\n",
    "print(\"Electron Density:\",N_e)\n",
    "print (tc)"
   ]
  },
  {
   "cell_type": "code",
   "execution_count": 10,
   "metadata": {
    "collapsed": false
   },
   "outputs": [
    {
     "data": {
      "text/plain": [
       "[<matplotlib.lines.Line2D at 0x7f88c8077828>]"
      ]
     },
     "execution_count": 10,
     "metadata": {},
     "output_type": "execute_result"
    },
    {
     "data": {
      "image/png": "[encoded data removed]",
      "text/plain": [
       "<matplotlib.figure.Figure at 0x7f88c8077710>"
      ]
     },
     "metadata": {},
     "output_type": "display_data"
    }
   ],
   "source": [
    "plt.xlabel('Time (eV)', fontsize=16)\n",
    "plt.ylabel('Electron Density(Ne)', fontsize=16)\n",
    "plt.plot(t,N_e, color = \"red\")"
   ]
  },
  {
   "cell_type": "code",
   "execution_count": null,
   "metadata": {
    "collapsed": true
   },
   "outputs": [],
   "source": []
  }
 ],
 "metadata": {
  "anaconda-cloud": {},
  "kernelspec": {
   "display_name": "Python [default]",
   "language": "python",
   "name": "python3"
  },
  "language_info": {
   "codemirror_mode": {
    "name": "ipython",
    "version": 3
   },
   "file_extension": ".py",
   "mimetype": "text/x-python",
   "name": "python",
   "nbconvert_exporter": "python",
   "pygments_lexer": "ipython3",
   "version": "3.5.2"
  }
 },
 "nbformat": 4,
 "nbformat_minor": 1
}
