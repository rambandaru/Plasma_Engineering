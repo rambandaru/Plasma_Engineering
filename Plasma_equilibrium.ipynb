{
 "cells": [
  {
   "cell_type": "code",
   "execution_count": 2,
   "metadata": {
    "collapsed": true
   },
   "outputs": [],
   "source": [
    "import numpy\n",
    "import math \n",
    "from matplotlib import pyplot as plt\n",
    "%matplotlib inline"
   ]
  },
  {
   "cell_type": "markdown",
   "metadata": {},
   "source": [
    "# Plasma Equilibrium"
   ]
  },
  {
   "cell_type": "markdown",
   "metadata": {},
   "source": [
    "The plasma Equiilibrium constant can be defined as follows:\n",
    "\n",
    "$K(T)$ = $\\frac{n_i*n_e}{n_a}$\n",
    "\n",
    "but in a plasma $n_i$ = $n_e$\n",
    "\n",
    "therefore, \n",
    "\n",
    "$K(T)$ = $\\frac{(n_e)^2}{n_a}$"
   ]
  },
  {
   "cell_type": "markdown",
   "metadata": {},
   "source": [
    "### Using Saha equaiton;"
   ]
  },
  {
   "cell_type": "markdown",
   "metadata": {},
   "source": [
    "we find the relation between the electron density and temperature,\n",
    "\n",
    "Therefore the $SAHA$ equation is;\n",
    "\n",
    "$\\frac{N_eN_i}{N_a}$ = $\\frac{g_eg_i}{g_a}\\frac{(2\\pi m T)^\\frac{3}{2}}{h^3}e^-(\\frac{E_i}{T})$\n",
    "\n",
    "but in a plasma $N_i$ = $N_e$ \n",
    "\n",
    "$\\frac{N_e^2}{N_a}$ = $\\frac{g_eg_i}{g_a}\\frac{(2\\pi m T)^\\frac{3}{2}}{h^3}e^-(\\frac{E_i}{T})$\n",
    "\n",
    "$N_e^2$ = $N_a\\frac{g_eg_i}{g_a}\\frac{(2\\pi m T)^\\frac{3}{2}}{h^3}e^-(\\frac{E_i}{T})$\n",
    "\n",
    "$N_e$ = $\\sqrt{N_a\\frac{g_eg_i}{g_a}\\frac{(2\\pi m T)^\\frac{3}{2}}{h^3}e^-(\\frac{E_i}{T})}$"
   ]
  },
  {
   "cell_type": "markdown",
   "metadata": {},
   "source": [
    "$Given:$\n",
    "\n",
    "$\\frac{g_eg_i}{g_a}$ = $2$\n",
    "\n",
    "$T$ = $(1-5)eV$\n",
    "\n",
    "$T in K = (11600, 23200,  34800,  46400,  58000.)K$\n",
    "\n",
    "\n",
    "$P$ = $0.1 atm$\n",
    "\n",
    "$P$ = $0.1 * 101325 = 10132.5Pa$\n",
    "\n",
    "$m$ = $4 * 10^-3 kg$\n",
    "\n",
    "$E_i$ = $24.5 eV$\n",
    "\n",
    "$h$ = $6.62607004 × 10^-34 m^2 kg / s$"
   ]
  },
  {
   "cell_type": "markdown",
   "metadata": {},
   "source": [
    "### calculation for Na\n",
    "\n",
    "using Ideal gas equation for in plasma;\n",
    "\n",
    "$P$ = $K_b N_a T$\n",
    "\n",
    "$N_a$ = $\\frac{P}{T K_b}$\n",
    "\n",
    "$Therefore:$\n",
    "\n",
    "$N_e$ = $\\sqrt{\\frac{P}{T K_b}\\frac{g_eg_i}{g_a}\\frac{(2\\pi m T)^\\frac{3}{2}}{h^3}e^-(\\frac{E_i}{T})}$\n",
    "\n",
    "let $\\frac{g_eg_i}{g_a}$ = $r$"
   ]
  },
  {
   "cell_type": "code",
   "execution_count": 12,
   "metadata": {
    "collapsed": false
   },
   "outputs": [
    {
     "name": "stdout",
     "output_type": "stream",
     "text": [
      "[ 1.  2.  3.  4.  5.]\n",
      "[ 11600.  23200.  34800.  46400.  58000.]\n",
      "[  1.60210000e-19   3.20420000e-19   4.80630000e-19   6.40840000e-19\n",
      "   8.01050000e-19]\n"
     ]
    },
    {
     "data": {
      "text/plain": [
       "array([  8.64525727e+22,   5.11011082e+28,   5.57104083e+30,\n",
       "         6.60737588e+31,   3.14343709e+32])"
      ]
     },
     "execution_count": 12,
     "metadata": {},
     "output_type": "execute_result"
    }
   ],
   "source": [
    "T = 5.\n",
    "N = 5\n",
    "t = numpy.linspace(1.0, T, N)\n",
    "t1 = t*11600.\n",
    "tc = t*(1.6021*10**-19)\n",
    "K_b = 1.38*10**-23\n",
    "p = 10132.5\n",
    "m = 6.65*10**-27 \n",
    "#e = 1.602*10**19\n",
    "E_i = 24.5\n",
    "h = 6.62*10**-34\n",
    "r = 2.\n",
    "print(t)\n",
    "print(t1)\n",
    "print(tc)\n",
    "B = 2*((2*numpy.pi*m*tc)/(h**2))**(3/2)*numpy.exp(-E_i/t)\n",
    "B"
   ]
  },
  {
   "cell_type": "code",
   "execution_count": 13,
   "metadata": {
    "collapsed": false
   },
   "outputs": [
    {
     "name": "stdout",
     "output_type": "stream",
     "text": [
      "[  2.73287552e+22   1.58241167e+22   1.05494130e+22   7.91205893e+21\n",
      "   6.32964715e+21]\n",
      "[ -2.00233901e+23  -1.02202232e+29  -1.11420817e+31  -1.32147518e+32\n",
      "  -6.28687419e+32]\n"
     ]
    }
   ],
   "source": [
    "a = 1\n",
    "b = 2*B\n",
    "c = -((10132.5)/(K_b*t1))*B\n",
    "\n",
    "d1 = (-b + numpy.sqrt(b**2-(4*a*c)))/2*a\n",
    "\n",
    "d2 = (-b - numpy.sqrt(b**2-4*a*c))/2*a\n",
    "\n",
    "print(d1)\n",
    "print(d2)"
   ]
  },
  {
   "cell_type": "code",
   "execution_count": 11,
   "metadata": {
    "collapsed": false
   },
   "outputs": [
    {
     "data": {
      "text/plain": [
       "<matplotlib.text.Text at 0x7f7923002470>"
      ]
     },
     "execution_count": 11,
     "metadata": {},
     "output_type": "execute_result"
    },
    {
     "data": {
      "image/png": "[encoded data removed]",
      "text/plain": [
       "<matplotlib.figure.Figure at 0x7f7922f392b0>"
      ]
     },
     "metadata": {},
     "output_type": "display_data"
    }
   ],
   "source": [
    "plt.figure(figsize=(12,6))\n",
    "plt.grid(True)\n",
    "plt.xlabel('Temperature $(eV)$', fontsize=16)\n",
    "plt.ylabel('Electron Density(Ne) $m^-3$', fontsize=16)\n",
    "plt.plot(t,d1, color='blue', ls ='--',linewidth='2', marker ='o')\n",
    "plt.title('Electron density $vs$ Temperature for Helium Plasma',fontsize=20)"
   ]
  },
  {
   "cell_type": "code",
   "execution_count": null,
   "metadata": {
    "collapsed": true
   },
   "outputs": [],
   "source": []
  }
 ],
 "metadata": {
  "anaconda-cloud": {},
  "kernelspec": {
   "display_name": "Python [default]",
   "language": "python",
   "name": "python3"
  }
 },
 "nbformat": 4,
 "nbformat_minor": 1
}
