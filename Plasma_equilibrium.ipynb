{
 "cells": [
  {
   "cell_type": "code",
   "execution_count": 1,
   "metadata": {
    "collapsed": true
   },
   "outputs": [],
   "source": [
    "import numpy\n",
    "import math \n",
    "from matplotlib import pyplot as plt\n",
    "%matplotlib inline"
   ]
  },
  {
   "cell_type": "markdown",
   "metadata": {},
   "source": [
    "# Plasma Equilibrium"
   ]
  },
  {
   "cell_type": "markdown",
   "metadata": {},
   "source": [
    "The plasma Equiilibrium constant can be defined as follows:\n",
    "\n",
    "$K(T)$ = $\\frac{n_i*n_e}{n_a}$\n",
    "\n",
    "but in a plasma $n_i$ = $n_e$\n",
    "\n",
    "therefore, \n",
    "\n",
    "$K(T)$ = $\\frac{(n_e)^2}{n_a}$"
   ]
  },
  {
   "cell_type": "markdown",
   "metadata": {},
   "source": [
    "### Using Saha equaiton;"
   ]
  },
  {
   "cell_type": "markdown",
   "metadata": {},
   "source": [
    "we find the relation between the electron density and temperature,\n",
    "\n",
    "Therefore the $SAHA$ equation is;\n",
    "\n",
    "$\\frac{N_eN_i}{N_a}$ = $\\frac{g_eg_i}{g_a}\\frac{(2\\pi m T)^\\frac{3}{2})}{h^3}e^-(\\frac{E_i}{T})$\n",
    "\n",
    "but in a plasma $N_i$ = $N_e$ \n",
    "\n",
    "$\\frac{N_e^2}{N_a}$ = $\\frac{g_eg_i}{g_a}\\frac{(2\\pi m T)^\\frac{3}{2})}{h^3}e^-(\\frac{E_i}{T})$\n",
    "\n",
    "$N_e^2$ = $N_a\\frac{g_eg_i}{g_a}\\frac{(2\\pi m T)^\\frac{3}{2})}{h^3}e^-(\\frac{E_i}{T})$\n",
    "\n",
    "$N_e$ = $\\sqrt{N_a\\frac{g_eg_i}{g_a}\\frac{(2\\pi m T)^\\frac{3}{2})}{h^3}e^-(\\frac{E_i}{T})}$"
   ]
  },
  {
   "cell_type": "markdown",
   "metadata": {},
   "source": [
    "$Given:$\n",
    "\n",
    "$\\frac{g_eg_i}{g_a}$ = $2$\n",
    "\n",
    "$T$ = $1-5eV$\n",
    "\n",
    "$P$ = $1 atm$\n",
    "\n",
    "$m$ = $4 gm$\n",
    "\n",
    "$e$ = $1.602*10^-19$\n",
    "\n",
    "$E_i$ = $24.5 eV$\n",
    "\n",
    "$h$ = $6.62607004 × 10^-34 m^2 kg / s$"
   ]
  },
  {
   "cell_type": "code",
   "execution_count": null,
   "metadata": {
    "collapsed": true
   },
   "outputs": [],
   "source": []
  }
 ],
 "metadata": {
  "kernelspec": {
   "display_name": "Python [default]",
   "language": "python",
   "name": "python3"
  },
  "language_info": {
   "codemirror_mode": {
    "name": "ipython",
    "version": 3
   },
   "file_extension": ".py",
   "mimetype": "text/x-python",
   "name": "python",
   "nbconvert_exporter": "python",
   "pygments_lexer": "ipython3",
   "version": "3.5.2"
  }
 },
 "nbformat": 4,
 "nbformat_minor": 1
}
