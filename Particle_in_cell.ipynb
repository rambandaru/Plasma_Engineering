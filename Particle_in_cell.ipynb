{
 "cells": [
  {
   "cell_type": "code",
   "execution_count": 1,
   "metadata": {
    "collapsed": false
   },
   "outputs": [],
   "source": [
    "import numpy\n",
    "from matplotlib import pyplot\n",
    "%matplotlib inline\n",
    "import random                              #for random value generator\n",
    "from mpl_toolkits.mplot3d import Axes3D\n"
   ]
  },
  {
   "cell_type": "code",
   "execution_count": 2,
   "metadata": {
    "collapsed": false
   },
   "outputs": [],
   "source": [
    "#Given Information\n",
    "q = 1.602*10**-19\n",
    "m_e = 9.11*10**-31"
   ]
  },
  {
   "cell_type": "code",
   "execution_count": 3,
   "metadata": {
    "collapsed": true
   },
   "outputs": [],
   "source": [
    "#initial conditions;\n",
    "n = 1\n",
    "nt = 100\n",
    "dt = 10**-11"
   ]
  },
  {
   "cell_type": "code",
   "execution_count": 4,
   "metadata": {
    "collapsed": false
   },
   "outputs": [],
   "source": [
    "V=numpy.zeros((3,n));\n",
    "\n",
    "V[0,0] = 10**5 \n",
    "V[1,0] = 2*10**5\n",
    "V[2,0] = 1.5*10**5\n",
    "V_temp=numpy.zeros((3,n));\n",
    "\n",
    "E=[1000,0,0];\n",
    "B=[0,0,0.1];\n",
    "\n",
    "X=numpy.zeros((nt+1,n));\n",
    "Y=numpy.zeros((nt+1,n));\n",
    "Z=numpy.zeros((nt+1,n));\n",
    "\n"
   ]
  },
  {
   "cell_type": "code",
   "execution_count": 5,
   "metadata": {
    "collapsed": false
   },
   "outputs": [
    {
     "data": {
      "text/plain": [
       "array([[  0.00000000e+00],\n",
       "       [  1.50000000e-06],\n",
       "       [  3.00000000e-06],\n",
       "       [  4.50000000e-06],\n",
       "       [  6.00000000e-06],\n",
       "       [  7.50000000e-06],\n",
       "       [  9.00000000e-06],\n",
       "       [  1.05000000e-05],\n",
       "       [  1.20000000e-05],\n",
       "       [  1.35000000e-05],\n",
       "       [  1.50000000e-05],\n",
       "       [  1.65000000e-05],\n",
       "       [  1.80000000e-05],\n",
       "       [  1.95000000e-05],\n",
       "       [  2.10000000e-05],\n",
       "       [  2.25000000e-05],\n",
       "       [  2.40000000e-05],\n",
       "       [  2.55000000e-05],\n",
       "       [  2.70000000e-05],\n",
       "       [  2.85000000e-05],\n",
       "       [  3.00000000e-05],\n",
       "       [  3.15000000e-05],\n",
       "       [  3.30000000e-05],\n",
       "       [  3.45000000e-05],\n",
       "       [  3.60000000e-05],\n",
       "       [  3.75000000e-05],\n",
       "       [  3.90000000e-05],\n",
       "       [  4.05000000e-05],\n",
       "       [  4.20000000e-05],\n",
       "       [  4.35000000e-05],\n",
       "       [  4.50000000e-05],\n",
       "       [  4.65000000e-05],\n",
       "       [  4.80000000e-05],\n",
       "       [  4.95000000e-05],\n",
       "       [  5.10000000e-05],\n",
       "       [  5.25000000e-05],\n",
       "       [  5.40000000e-05],\n",
       "       [  5.55000000e-05],\n",
       "       [  5.70000000e-05],\n",
       "       [  5.85000000e-05],\n",
       "       [  6.00000000e-05],\n",
       "       [  6.15000000e-05],\n",
       "       [  6.30000000e-05],\n",
       "       [  6.45000000e-05],\n",
       "       [  6.60000000e-05],\n",
       "       [  6.75000000e-05],\n",
       "       [  6.90000000e-05],\n",
       "       [  7.05000000e-05],\n",
       "       [  7.20000000e-05],\n",
       "       [  7.35000000e-05],\n",
       "       [  7.50000000e-05],\n",
       "       [  7.65000000e-05],\n",
       "       [  7.80000000e-05],\n",
       "       [  7.95000000e-05],\n",
       "       [  8.10000000e-05],\n",
       "       [  8.25000000e-05],\n",
       "       [  8.40000000e-05],\n",
       "       [  8.55000000e-05],\n",
       "       [  8.70000000e-05],\n",
       "       [  8.85000000e-05],\n",
       "       [  9.00000000e-05],\n",
       "       [  9.15000000e-05],\n",
       "       [  9.30000000e-05],\n",
       "       [  9.45000000e-05],\n",
       "       [  9.60000000e-05],\n",
       "       [  9.75000000e-05],\n",
       "       [  9.90000000e-05],\n",
       "       [  1.00500000e-04],\n",
       "       [  1.02000000e-04],\n",
       "       [  1.03500000e-04],\n",
       "       [  1.05000000e-04],\n",
       "       [  1.06500000e-04],\n",
       "       [  1.08000000e-04],\n",
       "       [  1.09500000e-04],\n",
       "       [  1.11000000e-04],\n",
       "       [  1.12500000e-04],\n",
       "       [  1.14000000e-04],\n",
       "       [  1.15500000e-04],\n",
       "       [  1.17000000e-04],\n",
       "       [  1.18500000e-04],\n",
       "       [  1.20000000e-04],\n",
       "       [  1.21500000e-04],\n",
       "       [  1.23000000e-04],\n",
       "       [  1.24500000e-04],\n",
       "       [  1.26000000e-04],\n",
       "       [  1.27500000e-04],\n",
       "       [  1.29000000e-04],\n",
       "       [  1.30500000e-04],\n",
       "       [  1.32000000e-04],\n",
       "       [  1.33500000e-04],\n",
       "       [  1.35000000e-04],\n",
       "       [  1.36500000e-04],\n",
       "       [  1.38000000e-04],\n",
       "       [  1.39500000e-04],\n",
       "       [  1.41000000e-04],\n",
       "       [  1.42500000e-04],\n",
       "       [  1.44000000e-04],\n",
       "       [  1.45500000e-04],\n",
       "       [  1.47000000e-04],\n",
       "       [  1.48500000e-04],\n",
       "       [  1.50000000e-04]])"
      ]
     },
     "execution_count": 5,
     "metadata": {},
     "output_type": "execute_result"
    }
   ],
   "source": [
    "for i in range(1,nt+1):\n",
    "    for j in range(0,n):\n",
    "        \n",
    "        X[i,j]=X[i-1,j] + V[0,j]*dt;\n",
    "        Y[i,j]=Y[i-1,j] + V[1,j]*dt;\n",
    "        Z[i,j]=Z[i-1,j] + V[2,j]*dt;\n",
    "\n",
    "        V_temp[0,j] = dt*(q*E[0] + q*(B[2]*V[1,j]-B[1]*V[2,j]))/m_e + V[0,j];\n",
    "    \n",
    "        V_temp[1,j] = dt*(q*E[1] + q*(B[0]*V[2,j]-B[2]*V[0,j]))/m_e + V[1,j];\n",
    "\n",
    "        V_temp[2,j] = dt*(q*E[2] + q*(B[1]*V[0,j]-B[0]*V[1,j]))/m_e + V[2,j];\n",
    "        \n",
    "    V=V_temp;\n",
    "Z"
   ]
  },
  {
   "cell_type": "code",
   "execution_count": 6,
   "metadata": {
    "collapsed": false
   },
   "outputs": [],
   "source": [
    "X=numpy.delete(X,0)\n",
    "Y=numpy.delete(Y,0)\n",
    "Z=numpy.delete(Z,0)\n"
   ]
  },
  {
   "cell_type": "code",
   "execution_count": 7,
   "metadata": {
    "collapsed": false
   },
   "outputs": [
    {
     "name": "stdout",
     "output_type": "stream",
     "text": [
      "[[-181988.10423069]\n",
      " [ 171960.67983544]\n",
      " [ 150000.        ]] m/s\n"
     ]
    }
   ],
   "source": [
    "print(V,'m/s')"
   ]
  },
  {
   "cell_type": "code",
   "execution_count": 8,
   "metadata": {
    "collapsed": false
   },
   "outputs": [
    {
     "data": {
      "text/plain": [
       "[<mpl_toolkits.mplot3d.art3d.Line3D at 0x7f5dfda316d8>]"
      ]
     },
     "execution_count": 8,
     "metadata": {},
     "output_type": "execute_result"
    },
    {
     "data": {
      "image/png": "[encoded data removed]",
      "text/plain": [
       "<matplotlib.figure.Figure at 0x7f5dffbd8be0>"
      ]
     },
     "metadata": {},
     "output_type": "display_data"
    }
   ],
   "source": [
    "fig = pyplot.figure(figsize=(10,8));\n",
    "\n",
    "ax = pyplot.axes(projection='3d')\n",
    "\n",
    "#ax.plot(x, y, z, '-b')\n",
    "#ax.plot(X, Y, Z)\n",
    "ax.view_init(45,45)\n",
    "ax.plot(X,Y,Z,'b')"
   ]
  },
  {
   "cell_type": "code",
   "execution_count": 9,
   "metadata": {
    "collapsed": false
   },
   "outputs": [
    {
     "name": "stdout",
     "output_type": "stream",
     "text": [
      "[ 291873.50940253]\n"
     ]
    }
   ],
   "source": [
    "Vmg = numpy.sqrt(V[0]**2+V[1]**2+V[2]**2)\n",
    "print(Vmg)"
   ]
  },
  {
   "cell_type": "code",
   "execution_count": 10,
   "metadata": {
    "collapsed": false
   },
   "outputs": [
    {
     "name": "stdout",
     "output_type": "stream",
     "text": [
      "[ 250380.00217859] m/s\n"
     ]
    }
   ],
   "source": [
    "Vper = numpy.sqrt(V[0]**2+V[1]**2)\n",
    "print(Vper,'m/s')"
   ]
  },
  {
   "cell_type": "code",
   "execution_count": 11,
   "metadata": {
    "collapsed": false
   },
   "outputs": [
    {
     "name": "stdout",
     "output_type": "stream",
     "text": [
      "[  1.42382136e-05] m\n"
     ]
    }
   ],
   "source": [
    "langmorradius = (m_e*Vper)/(q*B[2])\n",
    "print(langmorradius,'m')"
   ]
  },
  {
   "cell_type": "markdown",
   "metadata": {},
   "source": [
    "# To calculate the distance travelled in Z direction"
   ]
  },
  {
   "cell_type": "code",
   "execution_count": 12,
   "metadata": {
    "collapsed": true
   },
   "outputs": [],
   "source": [
    "V=numpy.zeros((3,n));\n",
    "\n",
    "V[0,0] = 0 \n",
    "V[1,0] = 0\n",
    "V[2,0] = 1.5*10**5\n",
    "V_temp=numpy.zeros((3,n));\n",
    "\n",
    "E=[1000,0,0];\n",
    "B=[0,0,0.1];\n",
    "\n",
    "X=numpy.zeros((nt+1,n));\n",
    "Y=numpy.zeros((nt+1,n));\n",
    "Z=numpy.zeros((nt+1,n));\n",
    "\n"
   ]
  },
  {
   "cell_type": "code",
   "execution_count": 13,
   "metadata": {
    "collapsed": false
   },
   "outputs": [
    {
     "data": {
      "text/plain": [
       "array([[  0.00000000e+00],\n",
       "       [  1.50000000e-06],\n",
       "       [  3.00000000e-06],\n",
       "       [  4.50000000e-06],\n",
       "       [  6.00000000e-06],\n",
       "       [  7.50000000e-06],\n",
       "       [  9.00000000e-06],\n",
       "       [  1.05000000e-05],\n",
       "       [  1.20000000e-05],\n",
       "       [  1.35000000e-05],\n",
       "       [  1.50000000e-05],\n",
       "       [  1.65000000e-05],\n",
       "       [  1.80000000e-05],\n",
       "       [  1.95000000e-05],\n",
       "       [  2.10000000e-05],\n",
       "       [  2.25000000e-05],\n",
       "       [  2.40000000e-05],\n",
       "       [  2.55000000e-05],\n",
       "       [  2.70000000e-05],\n",
       "       [  2.85000000e-05],\n",
       "       [  3.00000000e-05],\n",
       "       [  3.15000000e-05],\n",
       "       [  3.30000000e-05],\n",
       "       [  3.45000000e-05],\n",
       "       [  3.60000000e-05],\n",
       "       [  3.75000000e-05],\n",
       "       [  3.90000000e-05],\n",
       "       [  4.05000000e-05],\n",
       "       [  4.20000000e-05],\n",
       "       [  4.35000000e-05],\n",
       "       [  4.50000000e-05],\n",
       "       [  4.65000000e-05],\n",
       "       [  4.80000000e-05],\n",
       "       [  4.95000000e-05],\n",
       "       [  5.10000000e-05],\n",
       "       [  5.25000000e-05],\n",
       "       [  5.40000000e-05],\n",
       "       [  5.55000000e-05],\n",
       "       [  5.70000000e-05],\n",
       "       [  5.85000000e-05],\n",
       "       [  6.00000000e-05],\n",
       "       [  6.15000000e-05],\n",
       "       [  6.30000000e-05],\n",
       "       [  6.45000000e-05],\n",
       "       [  6.60000000e-05],\n",
       "       [  6.75000000e-05],\n",
       "       [  6.90000000e-05],\n",
       "       [  7.05000000e-05],\n",
       "       [  7.20000000e-05],\n",
       "       [  7.35000000e-05],\n",
       "       [  7.50000000e-05],\n",
       "       [  7.65000000e-05],\n",
       "       [  7.80000000e-05],\n",
       "       [  7.95000000e-05],\n",
       "       [  8.10000000e-05],\n",
       "       [  8.25000000e-05],\n",
       "       [  8.40000000e-05],\n",
       "       [  8.55000000e-05],\n",
       "       [  8.70000000e-05],\n",
       "       [  8.85000000e-05],\n",
       "       [  9.00000000e-05],\n",
       "       [  9.15000000e-05],\n",
       "       [  9.30000000e-05],\n",
       "       [  9.45000000e-05],\n",
       "       [  9.60000000e-05],\n",
       "       [  9.75000000e-05],\n",
       "       [  9.90000000e-05],\n",
       "       [  1.00500000e-04],\n",
       "       [  1.02000000e-04],\n",
       "       [  1.03500000e-04],\n",
       "       [  1.05000000e-04],\n",
       "       [  1.06500000e-04],\n",
       "       [  1.08000000e-04],\n",
       "       [  1.09500000e-04],\n",
       "       [  1.11000000e-04],\n",
       "       [  1.12500000e-04],\n",
       "       [  1.14000000e-04],\n",
       "       [  1.15500000e-04],\n",
       "       [  1.17000000e-04],\n",
       "       [  1.18500000e-04],\n",
       "       [  1.20000000e-04],\n",
       "       [  1.21500000e-04],\n",
       "       [  1.23000000e-04],\n",
       "       [  1.24500000e-04],\n",
       "       [  1.26000000e-04],\n",
       "       [  1.27500000e-04],\n",
       "       [  1.29000000e-04],\n",
       "       [  1.30500000e-04],\n",
       "       [  1.32000000e-04],\n",
       "       [  1.33500000e-04],\n",
       "       [  1.35000000e-04],\n",
       "       [  1.36500000e-04],\n",
       "       [  1.38000000e-04],\n",
       "       [  1.39500000e-04],\n",
       "       [  1.41000000e-04],\n",
       "       [  1.42500000e-04],\n",
       "       [  1.44000000e-04],\n",
       "       [  1.45500000e-04],\n",
       "       [  1.47000000e-04],\n",
       "       [  1.48500000e-04],\n",
       "       [  1.50000000e-04]])"
      ]
     },
     "execution_count": 13,
     "metadata": {},
     "output_type": "execute_result"
    }
   ],
   "source": [
    "for i in range(1,nt+1):\n",
    "    for j in range(0,n):\n",
    "        \n",
    "        X[i,j]=X[i-1,j] + V[0,j]*dt;\n",
    "        Y[i,j]=Y[i-1,j] + V[1,j]*dt;\n",
    "        Z[i,j]=Z[i-1,j] + V[2,j]*dt;\n",
    "\n",
    "        V_temp[0,j] = dt*(q*E[0] + q*(B[2]*V[1,j]-B[1]*V[2,j]))/m_e + V[0,j];\n",
    "    \n",
    "        V_temp[1,j] = dt*(q*E[1] + q*(B[0]*V[2,j]-B[2]*V[0,j]))/m_e + V[1,j];\n",
    "\n",
    "        V_temp[2,j] = dt*(q*E[2] + q*(B[1]*V[0,j]-B[0]*V[1,j]))/m_e + V[2,j];\n",
    "        \n",
    "    V=V_temp;\n",
    "Z"
   ]
  },
  {
   "cell_type": "code",
   "execution_count": 14,
   "metadata": {
    "collapsed": false
   },
   "outputs": [
    {
     "name": "stdout",
     "output_type": "stream",
     "text": [
      "[[  -9807.10705784]\n",
      " [  -5859.15575521]\n",
      " [ 150000.        ]] m/s\n"
     ]
    }
   ],
   "source": [
    "print(V,'m/s')"
   ]
  },
  {
   "cell_type": "markdown",
   "metadata": {},
   "source": [
    "# 2. for titanium ion."
   ]
  },
  {
   "cell_type": "code",
   "execution_count": 15,
   "metadata": {
    "collapsed": true
   },
   "outputs": [],
   "source": [
    "#Given Information\n",
    "q = 1.602*10**-19\n",
    "m_e = 7.93*10**-26"
   ]
  },
  {
   "cell_type": "code",
   "execution_count": 16,
   "metadata": {
    "collapsed": true
   },
   "outputs": [],
   "source": [
    "#initial conditions;\n",
    "n = 1\n",
    "nt = 100\n",
    "dt = 10**-5"
   ]
  },
  {
   "cell_type": "code",
   "execution_count": 17,
   "metadata": {
    "collapsed": true
   },
   "outputs": [],
   "source": [
    "V=numpy.zeros((3,n));\n",
    "\n",
    "V[0,0] = 10**3\n",
    "V[1,0] = 10**3\n",
    "V[2,0] = 10**3\n",
    "V_temp=numpy.zeros((3,n));\n",
    "\n",
    "E=[1000,0,0];\n",
    "B=[0,0,0.1];\n",
    "\n",
    "\n",
    "X=numpy.zeros((nt+1,n));\n",
    "Y=numpy.zeros((nt+1,n));\n",
    "Z=numpy.zeros((nt+1,n));\n"
   ]
  },
  {
   "cell_type": "code",
   "execution_count": 18,
   "metadata": {
    "collapsed": false
   },
   "outputs": [
    {
     "data": {
      "text/plain": [
       "array([[ 0.  ],\n",
       "       [ 0.01],\n",
       "       [ 0.02],\n",
       "       [ 0.03],\n",
       "       [ 0.04],\n",
       "       [ 0.05],\n",
       "       [ 0.06],\n",
       "       [ 0.07],\n",
       "       [ 0.08],\n",
       "       [ 0.09],\n",
       "       [ 0.1 ],\n",
       "       [ 0.11],\n",
       "       [ 0.12],\n",
       "       [ 0.13],\n",
       "       [ 0.14],\n",
       "       [ 0.15],\n",
       "       [ 0.16],\n",
       "       [ 0.17],\n",
       "       [ 0.18],\n",
       "       [ 0.19],\n",
       "       [ 0.2 ],\n",
       "       [ 0.21],\n",
       "       [ 0.22],\n",
       "       [ 0.23],\n",
       "       [ 0.24],\n",
       "       [ 0.25],\n",
       "       [ 0.26],\n",
       "       [ 0.27],\n",
       "       [ 0.28],\n",
       "       [ 0.29],\n",
       "       [ 0.3 ],\n",
       "       [ 0.31],\n",
       "       [ 0.32],\n",
       "       [ 0.33],\n",
       "       [ 0.34],\n",
       "       [ 0.35],\n",
       "       [ 0.36],\n",
       "       [ 0.37],\n",
       "       [ 0.38],\n",
       "       [ 0.39],\n",
       "       [ 0.4 ],\n",
       "       [ 0.41],\n",
       "       [ 0.42],\n",
       "       [ 0.43],\n",
       "       [ 0.44],\n",
       "       [ 0.45],\n",
       "       [ 0.46],\n",
       "       [ 0.47],\n",
       "       [ 0.48],\n",
       "       [ 0.49],\n",
       "       [ 0.5 ],\n",
       "       [ 0.51],\n",
       "       [ 0.52],\n",
       "       [ 0.53],\n",
       "       [ 0.54],\n",
       "       [ 0.55],\n",
       "       [ 0.56],\n",
       "       [ 0.57],\n",
       "       [ 0.58],\n",
       "       [ 0.59],\n",
       "       [ 0.6 ],\n",
       "       [ 0.61],\n",
       "       [ 0.62],\n",
       "       [ 0.63],\n",
       "       [ 0.64],\n",
       "       [ 0.65],\n",
       "       [ 0.66],\n",
       "       [ 0.67],\n",
       "       [ 0.68],\n",
       "       [ 0.69],\n",
       "       [ 0.7 ],\n",
       "       [ 0.71],\n",
       "       [ 0.72],\n",
       "       [ 0.73],\n",
       "       [ 0.74],\n",
       "       [ 0.75],\n",
       "       [ 0.76],\n",
       "       [ 0.77],\n",
       "       [ 0.78],\n",
       "       [ 0.79],\n",
       "       [ 0.8 ],\n",
       "       [ 0.81],\n",
       "       [ 0.82],\n",
       "       [ 0.83],\n",
       "       [ 0.84],\n",
       "       [ 0.85],\n",
       "       [ 0.86],\n",
       "       [ 0.87],\n",
       "       [ 0.88],\n",
       "       [ 0.89],\n",
       "       [ 0.9 ],\n",
       "       [ 0.91],\n",
       "       [ 0.92],\n",
       "       [ 0.93],\n",
       "       [ 0.94],\n",
       "       [ 0.95],\n",
       "       [ 0.96],\n",
       "       [ 0.97],\n",
       "       [ 0.98],\n",
       "       [ 0.99],\n",
       "       [ 1.  ]])"
      ]
     },
     "execution_count": 18,
     "metadata": {},
     "output_type": "execute_result"
    }
   ],
   "source": [
    "for i in range(1,nt+1):\n",
    "    for j in range(0,n):\n",
    "        \n",
    "        X[i,j]=X[i-1,j] + V[0,j]*dt;\n",
    "        Y[i,j]=Y[i-1,j] + V[1,j]*dt;\n",
    "        Z[i,j]=Z[i-1,j] + V[2,j]*dt;\n",
    "\n",
    "        V_temp[0,j] = dt*(q*E[0] + q*(B[2]*V[1,j]-B[1]*V[2,j]))/m_e + V[0,j];\n",
    "    \n",
    "        V_temp[1,j] = dt*(q*E[1] + q*(B[0]*V[2,j]-B[2]*V[0,j]))/m_e + V[1,j];\n",
    "\n",
    "        V_temp[2,j] = dt*(q*E[2] + q*(B[1]*V[0,j]-B[0]*V[1,j]))/m_e + V[2,j];\n",
    "        \n",
    "    V=V_temp;\n",
    "Z"
   ]
  },
  {
   "cell_type": "code",
   "execution_count": 19,
   "metadata": {
    "collapsed": true
   },
   "outputs": [],
   "source": [
    "X=numpy.delete(X,0)\n",
    "Y=numpy.delete(Y,0)\n",
    "Z=numpy.delete(Z,0)"
   ]
  },
  {
   "cell_type": "code",
   "execution_count": 20,
   "metadata": {
    "collapsed": false
   },
   "outputs": [
    {
     "data": {
      "text/plain": [
       "array([[  1.63666002e+17],\n",
       "       [ -1.88623469e+17],\n",
       "       [  1.00000000e+03]])"
      ]
     },
     "execution_count": 20,
     "metadata": {},
     "output_type": "execute_result"
    }
   ],
   "source": [
    "V"
   ]
  },
  {
   "cell_type": "code",
   "execution_count": 21,
   "metadata": {
    "collapsed": false
   },
   "outputs": [
    {
     "data": {
      "text/plain": [
       "[<mpl_toolkits.mplot3d.art3d.Line3D at 0x7f5dffbffe10>]"
      ]
     },
     "execution_count": 21,
     "metadata": {},
     "output_type": "execute_result"
    },
    {
     "data": {
      "image/png": "[encoded data removed]",
      "text/plain": [
       "<matplotlib.figure.Figure at 0x7f5dffbff588>"
      ]
     },
     "metadata": {},
     "output_type": "display_data"
    }
   ],
   "source": [
    "fig = pyplot.figure(figsize=(10,7));\n",
    "\n",
    "ax = pyplot.axes(projection='3d')\n",
    "\n",
    "#ax.plot(x, y, z, '-b')\n",
    "#ax.plot(X, Y, Z)\n",
    "#ax.view_init(45,45)\n",
    "ax.plot(X,Y,Z,'b')"
   ]
  },
  {
   "cell_type": "code",
   "execution_count": 22,
   "metadata": {
    "collapsed": false
   },
   "outputs": [
    {
     "data": {
      "text/plain": [
       "array([  2.49730602e+17])"
      ]
     },
     "execution_count": 22,
     "metadata": {},
     "output_type": "execute_result"
    }
   ],
   "source": [
    "Vmg = numpy.sqrt(V[0]**2+V[1]**2+V[2]**2)\n",
    "Vmg"
   ]
  },
  {
   "cell_type": "code",
   "execution_count": 23,
   "metadata": {
    "collapsed": false
   },
   "outputs": [
    {
     "data": {
      "text/plain": [
       "array([  2.49730602e+17])"
      ]
     },
     "execution_count": 23,
     "metadata": {},
     "output_type": "execute_result"
    }
   ],
   "source": [
    "Vper = numpy.sqrt(V[0]**2+V[1]**2)\n",
    "Vper"
   ]
  },
  {
   "cell_type": "code",
   "execution_count": 24,
   "metadata": {
    "collapsed": false
   },
   "outputs": [
    {
     "data": {
      "text/plain": [
       "array([  1.23618207e+12])"
      ]
     },
     "execution_count": 24,
     "metadata": {},
     "output_type": "execute_result"
    }
   ],
   "source": [
    "langmorradius = (m_e*Vper)/(q*B[2])\n",
    "langmorradius"
   ]
  },
  {
   "cell_type": "markdown",
   "metadata": {},
   "source": [
    "#  To calculate the distance travelled in Z direction "
   ]
  },
  {
   "cell_type": "code",
   "execution_count": 25,
   "metadata": {
    "collapsed": true
   },
   "outputs": [],
   "source": [
    "V=numpy.zeros((3,n));\n",
    "\n",
    "V[0,0] = 0 \n",
    "V[1,0] = 0\n",
    "V[2,0] = 10**3\n",
    "V_temp=numpy.zeros((3,n));\n",
    "\n",
    "E=[1000,0,0];\n",
    "B=[0,0,0.1];\n",
    "\n",
    "X=numpy.zeros((nt+1,n));\n",
    "Y=numpy.zeros((nt+1,n));\n",
    "Z=numpy.zeros((nt+1,n));\n",
    "\n"
   ]
  },
  {
   "cell_type": "code",
   "execution_count": 26,
   "metadata": {
    "collapsed": false
   },
   "outputs": [
    {
     "data": {
      "text/plain": [
       "array([[ 0.  ],\n",
       "       [ 0.01],\n",
       "       [ 0.02],\n",
       "       [ 0.03],\n",
       "       [ 0.04],\n",
       "       [ 0.05],\n",
       "       [ 0.06],\n",
       "       [ 0.07],\n",
       "       [ 0.08],\n",
       "       [ 0.09],\n",
       "       [ 0.1 ],\n",
       "       [ 0.11],\n",
       "       [ 0.12],\n",
       "       [ 0.13],\n",
       "       [ 0.14],\n",
       "       [ 0.15],\n",
       "       [ 0.16],\n",
       "       [ 0.17],\n",
       "       [ 0.18],\n",
       "       [ 0.19],\n",
       "       [ 0.2 ],\n",
       "       [ 0.21],\n",
       "       [ 0.22],\n",
       "       [ 0.23],\n",
       "       [ 0.24],\n",
       "       [ 0.25],\n",
       "       [ 0.26],\n",
       "       [ 0.27],\n",
       "       [ 0.28],\n",
       "       [ 0.29],\n",
       "       [ 0.3 ],\n",
       "       [ 0.31],\n",
       "       [ 0.32],\n",
       "       [ 0.33],\n",
       "       [ 0.34],\n",
       "       [ 0.35],\n",
       "       [ 0.36],\n",
       "       [ 0.37],\n",
       "       [ 0.38],\n",
       "       [ 0.39],\n",
       "       [ 0.4 ],\n",
       "       [ 0.41],\n",
       "       [ 0.42],\n",
       "       [ 0.43],\n",
       "       [ 0.44],\n",
       "       [ 0.45],\n",
       "       [ 0.46],\n",
       "       [ 0.47],\n",
       "       [ 0.48],\n",
       "       [ 0.49],\n",
       "       [ 0.5 ],\n",
       "       [ 0.51],\n",
       "       [ 0.52],\n",
       "       [ 0.53],\n",
       "       [ 0.54],\n",
       "       [ 0.55],\n",
       "       [ 0.56],\n",
       "       [ 0.57],\n",
       "       [ 0.58],\n",
       "       [ 0.59],\n",
       "       [ 0.6 ],\n",
       "       [ 0.61],\n",
       "       [ 0.62],\n",
       "       [ 0.63],\n",
       "       [ 0.64],\n",
       "       [ 0.65],\n",
       "       [ 0.66],\n",
       "       [ 0.67],\n",
       "       [ 0.68],\n",
       "       [ 0.69],\n",
       "       [ 0.7 ],\n",
       "       [ 0.71],\n",
       "       [ 0.72],\n",
       "       [ 0.73],\n",
       "       [ 0.74],\n",
       "       [ 0.75],\n",
       "       [ 0.76],\n",
       "       [ 0.77],\n",
       "       [ 0.78],\n",
       "       [ 0.79],\n",
       "       [ 0.8 ],\n",
       "       [ 0.81],\n",
       "       [ 0.82],\n",
       "       [ 0.83],\n",
       "       [ 0.84],\n",
       "       [ 0.85],\n",
       "       [ 0.86],\n",
       "       [ 0.87],\n",
       "       [ 0.88],\n",
       "       [ 0.89],\n",
       "       [ 0.9 ],\n",
       "       [ 0.91],\n",
       "       [ 0.92],\n",
       "       [ 0.93],\n",
       "       [ 0.94],\n",
       "       [ 0.95],\n",
       "       [ 0.96],\n",
       "       [ 0.97],\n",
       "       [ 0.98],\n",
       "       [ 0.99],\n",
       "       [ 1.  ]])"
      ]
     },
     "execution_count": 26,
     "metadata": {},
     "output_type": "execute_result"
    }
   ],
   "source": [
    "for i in range(1,nt+1):\n",
    "    for j in range(0,n):\n",
    "        \n",
    "        X[i,j]=X[i-1,j] + V[0,j]*dt;\n",
    "        Y[i,j]=Y[i-1,j] + V[1,j]*dt;\n",
    "        Z[i,j]=Z[i-1,j] + V[2,j]*dt;\n",
    "\n",
    "        V_temp[0,j] = dt*(q*E[0] + q*(B[2]*V[1,j]-B[1]*V[2,j]))/m_e + V[0,j];\n",
    "    \n",
    "        V_temp[1,j] = dt*(q*E[1] + q*(B[0]*V[2,j]-B[2]*V[0,j]))/m_e + V[1,j];\n",
    "\n",
    "        V_temp[2,j] = dt*(q*E[2] + q*(B[1]*V[0,j]-B[0]*V[1,j]))/m_e + V[2,j];\n",
    "        \n",
    "    V=V_temp;\n",
    "Z"
   ]
  },
  {
   "cell_type": "code",
   "execution_count": 27,
   "metadata": {
    "collapsed": false
   },
   "outputs": [
    {
     "name": "stdout",
     "output_type": "stream",
     "text": [
      "[[  1.54674013e+17]\n",
      " [ -1.78260289e+17]\n",
      " [  1.00000000e+03]] m/s\n"
     ]
    }
   ],
   "source": [
    "print(V,'m/s')"
   ]
  },
  {
   "cell_type": "code",
   "execution_count": null,
   "metadata": {
    "collapsed": true
   },
   "outputs": [],
   "source": []
  }
 ],
 "metadata": {
  "anaconda-cloud": {},
  "kernelspec": {
   "display_name": "Python [default]",
   "language": "python",
   "name": "python3"
  },
  "language_info": {
   "codemirror_mode": {
    "name": "ipython",
    "version": 3
   },
   "file_extension": ".py",
   "mimetype": "text/x-python",
   "name": "python",
   "nbconvert_exporter": "python",
   "pygments_lexer": "ipython3",
   "version": "3.5.2"
  }
 },
 "nbformat": 4,
 "nbformat_minor": 1
}
