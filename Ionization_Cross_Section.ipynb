{
 "cells": [
  {
   "cell_type": "code",
   "execution_count": 1,
   "metadata": {
    "collapsed": false
   },
   "outputs": [],
   "source": [
    "import numpy\n",
    "import math \n",
    "from matplotlib import pyplot as plt\n",
    "%matplotlib inline"
   ]
  },
  {
   "cell_type": "markdown",
   "metadata": {},
   "source": [
    "# Ionization Cross Section"
   ]
  },
  {
   "cell_type": "markdown",
   "metadata": {},
   "source": [
    "$Given$\n",
    "\n",
    "$Ionization Potential ;{E_i} $ = $14.5 eV$\n",
    "\n",
    "$Time; T_e$ = $1-10eV$"
   ]
  },
  {
   "cell_type": "markdown",
   "metadata": {},
   "source": [
    "### Plot the Ionization Coffieicent as a function of time"
   ]
  },
  {
   "cell_type": "markdown",
   "metadata": {},
   "source": [
    "$Ionization Coefficeint; K_i)$\n",
    "\n",
    "$K_i$ = $ \\sigma_0 \\sqrt{\\frac{8KT}{\\pi m}} {(1+\\frac{2T}{E_i})} {\\exp({\\frac{-E_i}{T}})}$\n",
    "\n",
    "$T$ = $Temperature$\n",
    "\n",
    "$K$ = $Boltzman Consatant$\n",
    "\n",
    "$E_i$ = $Ionization Potential$\n",
    "\n",
    "$\\sigma_0$ = Ionization Cross Section"
   ]
  },
  {
   "cell_type": "markdown",
   "metadata": {},
   "source": [
    "#### Ionization Cross Section\n",
    "\n",
    "$\\sigma_0$ = $\\pi (\\frac {e^2}{4 \\pi \\epsilon})^2 \\frac{1}{(E_i)^2}$"
   ]
  },
  {
   "cell_type": "code",
   "execution_count": 2,
   "metadata": {
    "collapsed": false
   },
   "outputs": [],
   "source": [
    "def sigma(Ei):\n",
    "    e = 1.602*10**-19\n",
    "    E_o = 8.854*10**-12\n",
    "    E_i = 14.5*1.602*10**-19\n",
    "    sigma_o = numpy.pi*(((e**2)/(4*numpy.pi*E_o))**2)*((1/E_i)**2)\n",
    "    return sigma_o\n",
    "\n",
    "#print (E_i)\n",
    "#print (\"σ_o:\" , sigma_o)"
   ]
  },
  {
   "cell_type": "code",
   "execution_count": 3,
   "metadata": {
    "collapsed": false
   },
   "outputs": [
    {
     "ename": "NameError",
     "evalue": "name 'sigma_o' is not defined",
     "output_type": "error",
     "traceback": [
      "\u001b[0;31m---------------------------------------------------------------------------\u001b[0m",
      "\u001b[0;31mNameError\u001b[0m                                 Traceback (most recent call last)",
      "\u001b[0;32m<ipython-input-3-f4206bd272a0>\u001b[0m in \u001b[0;36m<module>\u001b[0;34m()\u001b[0m\n\u001b[1;32m      7\u001b[0m \u001b[0mK_b\u001b[0m \u001b[0;34m=\u001b[0m \u001b[0;36m1.38\u001b[0m\u001b[0;34m*\u001b[0m\u001b[0;36m10\u001b[0m\u001b[0;34m**\u001b[0m\u001b[0;34m-\u001b[0m\u001b[0;36m23\u001b[0m\u001b[0;34m\u001b[0m\u001b[0m\n\u001b[1;32m      8\u001b[0m \u001b[0;34m\u001b[0m\u001b[0m\n\u001b[0;32m----> 9\u001b[0;31m \u001b[0mKi\u001b[0m\u001b[0;34m=\u001b[0m \u001b[0msigma_o\u001b[0m\u001b[0;34m*\u001b[0m\u001b[0mnumpy\u001b[0m\u001b[0;34m.\u001b[0m\u001b[0msqrt\u001b[0m\u001b[0;34m(\u001b[0m\u001b[0;34m(\u001b[0m\u001b[0;36m8\u001b[0m\u001b[0;34m*\u001b[0m\u001b[0mK_b\u001b[0m\u001b[0;34m*\u001b[0m\u001b[0mtc\u001b[0m\u001b[0;34m)\u001b[0m\u001b[0;34m/\u001b[0m\u001b[0;34m(\u001b[0m\u001b[0mnumpy\u001b[0m\u001b[0;34m.\u001b[0m\u001b[0mpi\u001b[0m\u001b[0;34m*\u001b[0m\u001b[0mm\u001b[0m\u001b[0;34m)\u001b[0m\u001b[0;34m)\u001b[0m\u001b[0;34m*\u001b[0m\u001b[0;34m(\u001b[0m\u001b[0;36m1\u001b[0m\u001b[0;34m+\u001b[0m\u001b[0;34m(\u001b[0m\u001b[0;36m2\u001b[0m\u001b[0;34m*\u001b[0m\u001b[0mt\u001b[0m\u001b[0;34m/\u001b[0m\u001b[0mE_c\u001b[0m\u001b[0;34m)\u001b[0m\u001b[0;34m)\u001b[0m\u001b[0;34m*\u001b[0m\u001b[0mnumpy\u001b[0m\u001b[0;34m.\u001b[0m\u001b[0mexp\u001b[0m\u001b[0;34m(\u001b[0m\u001b[0;34m-\u001b[0m\u001b[0mE_c\u001b[0m\u001b[0;34m/\u001b[0m\u001b[0mt\u001b[0m\u001b[0;34m)\u001b[0m\u001b[0;34m\u001b[0m\u001b[0m\n\u001b[0m\u001b[1;32m     10\u001b[0m \u001b[0;31m#print(\"Ionization coefficient(Ki)\" ,Ki)\u001b[0m\u001b[0;34m\u001b[0m\u001b[0;34m\u001b[0m\u001b[0m\n\u001b[1;32m     11\u001b[0m \u001b[0mprint\u001b[0m \u001b[0;34m(\u001b[0m\u001b[0mKi\u001b[0m\u001b[0;34m)\u001b[0m\u001b[0;34m\u001b[0m\u001b[0m\n",
      "\u001b[0;31mNameError\u001b[0m: name 'sigma_o' is not defined"
     ]
    }
   ],
   "source": [
    "T = 10.\n",
    "N = 5\n",
    "t = numpy.linspace(1.0, T, 10)\n",
    "tc = t*11600.\n",
    "m = 2.325*10**-26\n",
    "E_c = 14.5\n",
    "K_b = 1.38*10**-23\n",
    "\n",
    "Ki= sigma_o*numpy.sqrt((8*K_b*tc)/(numpy.pi*m))*(1+(2*t/E_c))*numpy.exp(-E_c/t)\n",
    "#print(\"Ionization coefficient(Ki)\" ,Ki)\n",
    "print (Ki)"
   ]
  },
  {
   "cell_type": "code",
   "execution_count": null,
   "metadata": {
    "collapsed": false
   },
   "outputs": [],
   "source": [
    "plt.figure(figsize=(12,6))\n",
    "plt.grid(True)\n",
    "#plt.scatter(tc, Ki)\n",
    "plt.plot(tc, Ki, color='blue', ls ='--',linewidth='2', marker ='o')\n",
    "plt.xlabel('Temp (K)', fontsize=16)\n",
    "plt.ylabel('Ionization coefficient (Ki) $m^3$$s^-1$', fontsize=16)\n",
    "plt.title('Ionization Coefficient $vs$ Time',fontsize=20)\n",
    "#plt.plot(t,Ki)"
   ]
  },
  {
   "cell_type": "code",
   "execution_count": null,
   "metadata": {
    "collapsed": true
   },
   "outputs": [],
   "source": []
  }
 ],
 "metadata": {
  "anaconda-cloud": {},
  "kernelspec": {
   "display_name": "Python [default]",
   "language": "python",
   "name": "python3"
  },
  "language_info": {
   "codemirror_mode": {
    "name": "ipython",
    "version": 3
   },
   "file_extension": ".py",
   "mimetype": "text/x-python",
   "name": "python",
   "nbconvert_exporter": "python",
   "pygments_lexer": "ipython3",
   "version": "3.5.2"
  }
 },
 "nbformat": 4,
 "nbformat_minor": 1
}
