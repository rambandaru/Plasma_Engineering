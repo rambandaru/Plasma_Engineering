{
 "cells": [
  {
   "cell_type": "code",
   "execution_count": 14,
   "metadata": {
    "collapsed": false
   },
   "outputs": [],
   "source": [
    "import numpy\n",
    "import math \n",
    "from matplotlib import pyplot as plt\n",
    "%matplotlib inline"
   ]
  },
  {
   "cell_type": "markdown",
   "metadata": {},
   "source": [
    "# Ionization Cross Section"
   ]
  },
  {
   "cell_type": "markdown",
   "metadata": {},
   "source": [
    "$Given$\n",
    "\n",
    "$Ionization Potential ;{E_i} $ = $14.5 eV$\n",
    "\n",
    "$Time; T_e$ = $1-10eV$"
   ]
  },
  {
   "cell_type": "markdown",
   "metadata": {},
   "source": [
    "### Plot the Ionization Coffieicent as a function of time"
   ]
  },
  {
   "cell_type": "markdown",
   "metadata": {},
   "source": [
    "$Ionization Coefficeint; K_i)$\n",
    "\n",
    "$K_i$ = $ \\sigma_0 \\sqrt{\\frac{8KT}{\\pi m}} {(1+\\frac{2T}{E_i})} {\\exp({\\frac{-E_i}{T}})}$\n",
    "\n",
    "$T$ = $Temperature$\n",
    "\n",
    "$K$ = $Boltzman Consatant$\n",
    "\n",
    "$E_i$ = $Ionization Potential$\n",
    "\n",
    "$\\sigma_0$ = Ionization Cross Section"
   ]
  },
  {
   "cell_type": "markdown",
   "metadata": {},
   "source": [
    "#### Ionization Cross Section\n",
    "\n",
    "$\\sigma_0$ = $\\frac{\\pi e^2}{(4\\pi \\epsilon_0E_i)^2}$"
   ]
  },
  {
   "cell_type": "code",
   "execution_count": 15,
   "metadata": {
    "collapsed": false
   },
   "outputs": [
    {
     "name": "stdout",
     "output_type": "stream",
     "text": [
      "σ_o: 3.0977055109915877e-20\n"
     ]
    }
   ],
   "source": [
    "e = 1.602*10**-19\n",
    "E_o = 8.854*10**-12\n",
    "E_i = 14.5\n",
    "sigma_o = (math.pi * e**2)/((4*math.pi*E_o*E_i)**2)\n",
    "\n",
    "print (\"σ_o:\" , sigma_o)"
   ]
  },
  {
   "cell_type": "code",
   "execution_count": 16,
   "metadata": {
    "collapsed": false
   },
   "outputs": [
    {
     "name": "stdout",
     "output_type": "stream",
     "text": [
      "[  1.99120453e-38   4.44583815e-35   6.76279789e-34   2.86943858e-33\n",
      "   7.21271887e-33   1.38572935e-32   2.27345204e-32   3.36967488e-32\n",
      "   4.65811135e-32   6.12341949e-32]\n"
     ]
    }
   ],
   "source": [
    "T = 10.\n",
    "N = 10\n",
    "t = numpy.linspace(1.0, T, N)\n",
    "m = 28.013\n",
    "K_b = 1.38*10**-23\n",
    "#for t in range (N):\n",
    "  #  sigma_o*(math.sqrt((8*K_b*t)/(math.pi*m)))*(1+(2*t/E_i))*(math.exp(-E_i/t))\n",
    "    \n",
    "Ki= sigma_o*(numpy.sqrt((8*K_b*t)/(numpy.pi*m)))*(1+(2*t/E_i))*(numpy.exp(-E_i/t))\n",
    "print(Ki)\n",
    "    "
   ]
  },
  {
   "cell_type": "code",
   "execution_count": 18,
   "metadata": {
    "collapsed": false
   },
   "outputs": [
    {
     "data": {
      "text/plain": [
       "[<matplotlib.lines.Line2D at 0x7f3ffd041940>]"
      ]
     },
     "execution_count": 18,
     "metadata": {},
     "output_type": "execute_result"
    },
    {
     "data": {
      "image/png": "[encoded data removed]",
      "text/plain": [
       "<matplotlib.figure.Figure at 0x7f3ffc712fd0>"
      ]
     },
     "metadata": {},
     "output_type": "display_data"
    }
   ],
   "source": [
    "plt.plot(t,Ki)"
   ]
  },
  {
   "cell_type": "code",
   "execution_count": null,
   "metadata": {
    "collapsed": true
   },
   "outputs": [],
   "source": []
  }
 ],
 "metadata": {
  "anaconda-cloud": {},
  "kernelspec": {
   "display_name": "Python [default]",
   "language": "python",
   "name": "python3"
  },
  "language_info": {
   "codemirror_mode": {
    "name": "ipython",
    "version": 3
   },
   "file_extension": ".py",
   "mimetype": "text/x-python",
   "name": "python",
   "nbconvert_exporter": "python",
   "pygments_lexer": "ipython3",
   "version": "3.5.2"
  }
 },
 "nbformat": 4,
 "nbformat_minor": 1
}
